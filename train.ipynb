{
 "cells": [
  {
   "cell_type": "code",
   "execution_count": 35,
   "id": "serial-cooperative",
   "metadata": {},
   "outputs": [],
   "source": [
    "from TileCoder import TileCoder\n",
    "from Q_learning import Q_learning\n",
    "import gym\n",
    "import numpy as np\n",
    "import ray\n",
    "import scipy.stats"
   ]
  },
  {
   "cell_type": "code",
   "execution_count": 15,
   "id": "functional-argument",
   "metadata": {},
   "outputs": [
    {
     "name": "stderr",
     "output_type": "stream",
     "text": [
      "2022-05-27 14:43:50,966\tINFO resource_spec.py:204 -- Starting Ray with 10.45 GiB memory available for workers and up to 5.25 GiB for objects. You can adjust these settings with ray.init(memory=<bytes>, object_store_memory=<bytes>).\n",
      "2022-05-27 14:43:51,139\tWARNING services.py:923 -- Redis failed to start, retrying now.\n",
      "2022-05-27 14:43:51,351\tWARNING services.py:923 -- Redis failed to start, retrying now.\n",
      "2022-05-27 14:43:51,747\tINFO services.py:1163 -- View the Ray dashboard at \u001b[1m\u001b[32mlocalhost:8268\u001b[39m\u001b[22m\n"
     ]
    },
    {
     "data": {
      "text/plain": [
       "{'node_ip_address': '143.248.39.21',\n",
       " 'raylet_ip_address': '143.248.39.21',\n",
       " 'redis_address': '143.248.39.21:59960',\n",
       " 'object_store_address': '/tmp/ray/session_2022-05-27_14-43-50_965497_859182/sockets/plasma_store',\n",
       " 'raylet_socket_name': '/tmp/ray/session_2022-05-27_14-43-50_965497_859182/sockets/raylet',\n",
       " 'webui_url': 'localhost:8268',\n",
       " 'session_dir': '/tmp/ray/session_2022-05-27_14-43-50_965497_859182'}"
      ]
     },
     "execution_count": 15,
     "metadata": {},
     "output_type": "execute_result"
    }
   ],
   "source": [
    "NUM_CPUS = 8\n",
    "ray.init(num_cpus = NUM_CPUS,ignore_reinit_error=True)"
   ]
  },
  {
   "cell_type": "code",
   "execution_count": 16,
   "id": "nonprofit-stevens",
   "metadata": {},
   "outputs": [],
   "source": [
    "@ray.remote\n",
    "def train(model,config):\n",
    "        \n",
    "    # gym\n",
    "    env = gym.make('MountainCar-v0')\n",
    "\n",
    "    # tile coding part\n",
    "    features = np.array([env.observation_space.low,env.observation_space.high]).T\n",
    "    delta = env.observation_space.high-env.observation_space.low\n",
    "\n",
    "    num_tiles = config['num_tiles']\n",
    "    tile_width = config['tile_width']\n",
    "    offset = [i*(delta/tile_width)/num_tiles for i in range(num_tiles)]\n",
    "\n",
    "    tileCoder = TileCoder(features,num_tiles,tile_width,offset,env)\n",
    "    \n",
    "    \n",
    "    #agent config\n",
    "    num_states = tileCoder.total_states #number of total tiles \n",
    "    num_actions = env.action_space.n\n",
    "    epsilon = config['epsilon']\n",
    "    \n",
    "    agent = model(num_states,num_actions,tileCoder,config)\n",
    "    \n",
    "    #trainign log\n",
    "    episode_reward_list = []\n",
    "    \n",
    "    \n",
    "    for epoch in range(1,config['num_episodes']):\n",
    "\n",
    "        done = False\n",
    "        state = env.reset()\n",
    "            \n",
    "        # reset logs\n",
    "        episode_reward = 0\n",
    "        episode_steps = 0\n",
    "        epi_max_pos = -2 \n",
    "        epi_td_error = 0\n",
    "        epi_avg_pos = 0\n",
    "        epi_avg_vel = 0\n",
    "        epi_avg_action = 0\n",
    "\n",
    "        while not done:\n",
    "\n",
    "            if episode_steps > config['window_size']:\n",
    "                break\n",
    "\n",
    "            if np.random.random()<epsilon:\n",
    "                action = np.random.randint(0,num_actions)\n",
    "            else:\n",
    "                value = np.array([np.einsum('ij,ij->j',tileCoder.get_one_hot_tiles(state,a),agent.w) for a in range(num_actions)])\n",
    "                action = np.random.choice(np.where( value == value.max())[0])\n",
    "                           \n",
    "                \n",
    "            encoded_state = tileCoder.get_one_hot_tiles(state,action)\n",
    "            next_state,reward,done,info = env.step(action)\n",
    "    \n",
    "            done_mask = 0.0 if done else 1.0\n",
    "            \n",
    "            if config['isTrain']:\n",
    "                td_error = agent.update(encoded_state,next_state,action,reward,done_mask)\n",
    "                epi_td_error += td_error\n",
    "            \n",
    "\n",
    "            state = next_state\n",
    "            \n",
    "            #update log\n",
    "            epi_max_pos = max(epi_max_pos,state[0])\n",
    "            episode_reward += reward\n",
    "            episode_steps += 1\n",
    "            epi_avg_pos += state[0]\n",
    "            epi_avg_vel += state[1]\n",
    "            epi_avg_action += action\n",
    "            \n",
    "        if config['epsilon_decay']:\n",
    "            epsilon = max(config['min_epsilon'],epsilon-config['eta_decay_rate'])\n",
    "        \n",
    "        agent.on_epoch_end()\n",
    "\n",
    "        \n",
    "        episode_reward_list.append(episode_reward)\n",
    "\n",
    "        if epoch % config['num_print_episodes'] ==0 :\n",
    "            print(f\"Epoch:{epoch}, Episode Reward :{episode_reward}\")\n",
    "    \n",
    "        \n",
    "    return episode_reward_list"
   ]
  },
  {
   "cell_type": "code",
   "execution_count": 28,
   "id": "north-polymer",
   "metadata": {},
   "outputs": [],
   "source": [
    "config = {'eta':0.1,'gamma':0.99,'learning_rate':0.1,'epsilon':0,'epsilon_decay':True,'min_epsilon':0.01,\n",
    "              'num_tiles':2,\n",
    "              'tile_width':10,\n",
    "              'isTrain':True,\n",
    "              'num_episodes':1000,\n",
    "              'num_print_episodes':100,\n",
    "              'window_size':200,\n",
    "              'eta_decay_rate':0,\n",
    "                }"
   ]
  },
  {
   "cell_type": "code",
   "execution_count": 29,
   "id": "fewer-twins",
   "metadata": {
    "collapsed": true,
    "jupyter": {
     "outputs_hidden": true
    }
   },
   "outputs": [
    {
     "name": "stdout",
     "output_type": "stream",
     "text": [
      "\u001b[2m\u001b[36m(pid=859647)\u001b[0m Epoch:100, Episode Reward :-200.0\n",
      "\u001b[2m\u001b[36m(pid=859646)\u001b[0m Epoch:100, Episode Reward :-200.0\n",
      "\u001b[2m\u001b[36m(pid=859643)\u001b[0m Epoch:100, Episode Reward :-153.0\n",
      "\u001b[2m\u001b[36m(pid=859640)\u001b[0m Epoch:100, Episode Reward :-200.0\n",
      "\u001b[2m\u001b[36m(pid=859642)\u001b[0m Epoch:100, Episode Reward :-200.0\n",
      "\u001b[2m\u001b[36m(pid=859647)\u001b[0m Epoch:200, Episode Reward :-200.0\n",
      "\u001b[2m\u001b[36m(pid=859643)\u001b[0m Epoch:200, Episode Reward :-200.0\n",
      "\u001b[2m\u001b[36m(pid=859646)\u001b[0m Epoch:200, Episode Reward :-167.0\n",
      "\u001b[2m\u001b[36m(pid=859640)\u001b[0m Epoch:200, Episode Reward :-172.0\n",
      "\u001b[2m\u001b[36m(pid=859642)\u001b[0m Epoch:200, Episode Reward :-200.0\n",
      "\u001b[2m\u001b[36m(pid=859647)\u001b[0m Epoch:300, Episode Reward :-147.0\n",
      "\u001b[2m\u001b[36m(pid=859643)\u001b[0m Epoch:300, Episode Reward :-200.0\n",
      "\u001b[2m\u001b[36m(pid=859646)\u001b[0m Epoch:300, Episode Reward :-192.0\n",
      "\u001b[2m\u001b[36m(pid=859640)\u001b[0m Epoch:300, Episode Reward :-155.0\n",
      "\u001b[2m\u001b[36m(pid=859642)\u001b[0m Epoch:300, Episode Reward :-156.0\n",
      "\u001b[2m\u001b[36m(pid=859647)\u001b[0m Epoch:400, Episode Reward :-200.0\n",
      "\u001b[2m\u001b[36m(pid=859646)\u001b[0m Epoch:400, Episode Reward :-170.0\n",
      "\u001b[2m\u001b[36m(pid=859640)\u001b[0m Epoch:400, Episode Reward :-159.0\n",
      "\u001b[2m\u001b[36m(pid=859642)\u001b[0m Epoch:400, Episode Reward :-183.0\n",
      "\u001b[2m\u001b[36m(pid=859643)\u001b[0m Epoch:400, Episode Reward :-141.0\n",
      "\u001b[2m\u001b[36m(pid=859647)\u001b[0m Epoch:500, Episode Reward :-156.0\n",
      "\u001b[2m\u001b[36m(pid=859646)\u001b[0m Epoch:500, Episode Reward :-191.0\n",
      "\u001b[2m\u001b[36m(pid=859643)\u001b[0m Epoch:500, Episode Reward :-153.0\n",
      "\u001b[2m\u001b[36m(pid=859642)\u001b[0m Epoch:500, Episode Reward :-185.0\n",
      "\u001b[2m\u001b[36m(pid=859640)\u001b[0m Epoch:500, Episode Reward :-152.0\n",
      "\u001b[2m\u001b[36m(pid=859647)\u001b[0m Epoch:600, Episode Reward :-140.0\n",
      "\u001b[2m\u001b[36m(pid=859646)\u001b[0m Epoch:600, Episode Reward :-149.0\n",
      "\u001b[2m\u001b[36m(pid=859640)\u001b[0m Epoch:600, Episode Reward :-141.0\n",
      "\u001b[2m\u001b[36m(pid=859643)\u001b[0m Epoch:600, Episode Reward :-161.0\n",
      "\u001b[2m\u001b[36m(pid=859642)\u001b[0m Epoch:600, Episode Reward :-117.0\n",
      "\u001b[2m\u001b[36m(pid=859647)\u001b[0m Epoch:700, Episode Reward :-149.0\n",
      "\u001b[2m\u001b[36m(pid=859646)\u001b[0m Epoch:700, Episode Reward :-155.0\n",
      "\u001b[2m\u001b[36m(pid=859640)\u001b[0m Epoch:700, Episode Reward :-133.0\n",
      "\u001b[2m\u001b[36m(pid=859642)\u001b[0m Epoch:700, Episode Reward :-144.0\n",
      "\u001b[2m\u001b[36m(pid=859643)\u001b[0m Epoch:700, Episode Reward :-155.0\n",
      "\u001b[2m\u001b[36m(pid=859647)\u001b[0m Epoch:800, Episode Reward :-148.0\n",
      "\u001b[2m\u001b[36m(pid=859646)\u001b[0m Epoch:800, Episode Reward :-200.0\n",
      "\u001b[2m\u001b[36m(pid=859640)\u001b[0m Epoch:800, Episode Reward :-148.0\n",
      "\u001b[2m\u001b[36m(pid=859643)\u001b[0m Epoch:800, Episode Reward :-144.0\n",
      "\u001b[2m\u001b[36m(pid=859642)\u001b[0m Epoch:800, Episode Reward :-143.0\n",
      "\u001b[2m\u001b[36m(pid=859647)\u001b[0m Epoch:900, Episode Reward :-148.0\n",
      "\u001b[2m\u001b[36m(pid=859640)\u001b[0m Epoch:900, Episode Reward :-153.0\n",
      "\u001b[2m\u001b[36m(pid=859646)\u001b[0m Epoch:900, Episode Reward :-143.0\n",
      "\u001b[2m\u001b[36m(pid=859643)\u001b[0m Epoch:900, Episode Reward :-154.0\n",
      "\u001b[2m\u001b[36m(pid=859642)\u001b[0m Epoch:900, Episode Reward :-160.0\n"
     ]
    }
   ],
   "source": [
    "reward_list = ray.get([train.remote(Q_learning,config) for i in range(5)])"
   ]
  },
  {
   "cell_type": "code",
   "execution_count": 37,
   "id": "fancy-tonight",
   "metadata": {},
   "outputs": [
    {
     "name": "stdout",
     "output_type": "stream",
     "text": [
      "mean:-146.0,95% CI:(-149.42052627529742, -142.57947372470258)\n"
     ]
    }
   ],
   "source": [
    "last_scores = np.array(reward_list)[:,-1]\n",
    "mean = np.mean(last_scores)\n",
    "se = scipy.stats.sem(last_score)\n",
    "print(f'mean:{mean},95% CI:{mean-se,mean+se}')"
   ]
  },
  {
   "cell_type": "code",
   "execution_count": null,
   "id": "cheap-latino",
   "metadata": {},
   "outputs": [],
   "source": []
  }
 ],
 "metadata": {
  "kernelspec": {
   "display_name": "Python 3",
   "language": "python",
   "name": "python3"
  },
  "language_info": {
   "codemirror_mode": {
    "name": "ipython",
    "version": 3
   },
   "file_extension": ".py",
   "mimetype": "text/x-python",
   "name": "python",
   "nbconvert_exporter": "python",
   "pygments_lexer": "ipython3",
   "version": "3.8.10"
  }
 },
 "nbformat": 4,
 "nbformat_minor": 5
}
